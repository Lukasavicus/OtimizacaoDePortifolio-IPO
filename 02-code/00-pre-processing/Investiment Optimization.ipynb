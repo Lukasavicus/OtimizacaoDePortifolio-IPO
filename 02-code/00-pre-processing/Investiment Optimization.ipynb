{
 "cells": [
  {
   "cell_type": "markdown",
   "id": "b22650ea",
   "metadata": {},
   "source": [
    "Referências:\n",
    "    \n",
    "- https://redib.org/Record/oai_articulo2448895-utilizando-o-m%C3%A9todo-todim-para-avaliar-melhores-empresas-para-trabalhar\n",
    "- https://www.marinha.mil.br/spolm/sites/www.marinha.mil.br.spolm/files/126482.pdf\n",
    "- http://www.abepro.org.br/biblioteca/ENEGEP1998_ART332.pdf\n",
    "- https://www.mdpi.com/2227-9717/10/3/609\n",
    "- https://coin-or.github.io/pulp/main/includeme.html\n",
    "- http://www.optimization-online.org/DB_FILE/2011/09/3178.pdf\n",
    "- https://machinelearninggeek.com/solving-linear-programming-using-python-pulp/\n",
    "- https://www.analyticsvidhya.com/blog/2017/10/linear-optimization-in-python/"
   ]
  },
  {
   "cell_type": "code",
   "execution_count": 206,
   "id": "44055ae9",
   "metadata": {},
   "outputs": [],
   "source": [
    "import re\n",
    "import random\n",
    "\n",
    "import pulp\n",
    "\n",
    "import pandas as pd\n",
    "import numpy as np\n",
    "\n",
    "from pulp import LpMaximize, LpMinimize, LpProblem, LpStatus, lpSum, LpVariable"
   ]
  },
  {
   "cell_type": "code",
   "execution_count": 207,
   "id": "ac00c628",
   "metadata": {},
   "outputs": [],
   "source": [
    "fiis = pd.read_csv('./bases/fiis_data.csv')"
   ]
  },
  {
   "cell_type": "code",
   "execution_count": 208,
   "id": "d68110bd",
   "metadata": {},
   "outputs": [
    {
     "data": {
      "text/html": [
       "<div>\n",
       "<style scoped>\n",
       "    .dataframe tbody tr th:only-of-type {\n",
       "        vertical-align: middle;\n",
       "    }\n",
       "\n",
       "    .dataframe tbody tr th {\n",
       "        vertical-align: top;\n",
       "    }\n",
       "\n",
       "    .dataframe thead th {\n",
       "        text-align: right;\n",
       "    }\n",
       "</style>\n",
       "<table border=\"1\" class=\"dataframe\">\n",
       "  <thead>\n",
       "    <tr style=\"text-align: right;\">\n",
       "      <th></th>\n",
       "      <th>Papel</th>\n",
       "      <th>Segmento</th>\n",
       "      <th>Cotação</th>\n",
       "      <th>FFO Yield</th>\n",
       "      <th>Dividend Yield</th>\n",
       "      <th>P/VP</th>\n",
       "      <th>Valor de Mercado</th>\n",
       "      <th>Liquidez</th>\n",
       "      <th>Qtd de imóveis</th>\n",
       "      <th>Preço do m2</th>\n",
       "      <th>Aluguel por m2</th>\n",
       "      <th>Cap Rate</th>\n",
       "      <th>Vacância Média</th>\n",
       "      <th>Endereço</th>\n",
       "    </tr>\n",
       "  </thead>\n",
       "  <tbody>\n",
       "    <tr>\n",
       "      <th>0</th>\n",
       "      <td>ABCP11</td>\n",
       "      <td>Shoppings</td>\n",
       "      <td>73,29</td>\n",
       "      <td>6,97%</td>\n",
       "      <td>7,57%</td>\n",
       "      <td>0,80</td>\n",
       "      <td>894.419.000</td>\n",
       "      <td>90.469</td>\n",
       "      <td>1</td>\n",
       "      <td>12.537,30</td>\n",
       "      <td>1.019,81</td>\n",
       "      <td>8,13%</td>\n",
       "      <td>7,50%</td>\n",
       "      <td>Avenida Industrial, 600, Centro, Santo André - SP</td>\n",
       "    </tr>\n",
       "    <tr>\n",
       "      <th>1</th>\n",
       "      <td>AEFI11</td>\n",
       "      <td>Outros</td>\n",
       "      <td>174,90</td>\n",
       "      <td>6,97%</td>\n",
       "      <td>0,00%</td>\n",
       "      <td>1,24</td>\n",
       "      <td>353.582.000</td>\n",
       "      <td>0</td>\n",
       "      <td>6</td>\n",
       "      <td>4.065,62</td>\n",
       "      <td>300,71</td>\n",
       "      <td>7,40%</td>\n",
       "      <td>0,00%</td>\n",
       "      <td>Avenida São Luís Rei de França, 32, Turu - São...</td>\n",
       "    </tr>\n",
       "    <tr>\n",
       "      <th>2</th>\n",
       "      <td>AFCR11</td>\n",
       "      <td>Híbrido</td>\n",
       "      <td>103,15</td>\n",
       "      <td>13,16%</td>\n",
       "      <td>7,96%</td>\n",
       "      <td>1,01</td>\n",
       "      <td>156.193.000</td>\n",
       "      <td>0</td>\n",
       "      <td>0</td>\n",
       "      <td>0,00</td>\n",
       "      <td>0,00</td>\n",
       "      <td>0,00%</td>\n",
       "      <td>0,00%</td>\n",
       "      <td>NaN</td>\n",
       "    </tr>\n",
       "    <tr>\n",
       "      <th>3</th>\n",
       "      <td>AFHI11</td>\n",
       "      <td>Títulos e Val. Mob.</td>\n",
       "      <td>100,88</td>\n",
       "      <td>6,14%</td>\n",
       "      <td>11,07%</td>\n",
       "      <td>1,05</td>\n",
       "      <td>180.340.000</td>\n",
       "      <td>863.145</td>\n",
       "      <td>0</td>\n",
       "      <td>0,00</td>\n",
       "      <td>0,00</td>\n",
       "      <td>0,00%</td>\n",
       "      <td>0,00%</td>\n",
       "      <td>NaN</td>\n",
       "    </tr>\n",
       "    <tr>\n",
       "      <th>4</th>\n",
       "      <td>AFOF11</td>\n",
       "      <td>Títulos e Val. Mob.</td>\n",
       "      <td>92,20</td>\n",
       "      <td>5,09%</td>\n",
       "      <td>10,78%</td>\n",
       "      <td>0,91</td>\n",
       "      <td>63.727.900</td>\n",
       "      <td>95.373</td>\n",
       "      <td>0</td>\n",
       "      <td>0,00</td>\n",
       "      <td>0,00</td>\n",
       "      <td>0,00%</td>\n",
       "      <td>0,00%</td>\n",
       "      <td>NaN</td>\n",
       "    </tr>\n",
       "  </tbody>\n",
       "</table>\n",
       "</div>"
      ],
      "text/plain": [
       "    Papel             Segmento Cotação FFO Yield Dividend Yield  P/VP  \\\n",
       "0  ABCP11            Shoppings   73,29     6,97%          7,57%  0,80   \n",
       "1  AEFI11               Outros  174,90     6,97%          0,00%  1,24   \n",
       "2  AFCR11              Híbrido  103,15    13,16%          7,96%  1,01   \n",
       "3  AFHI11  Títulos e Val. Mob.  100,88     6,14%         11,07%  1,05   \n",
       "4  AFOF11  Títulos e Val. Mob.   92,20     5,09%         10,78%  0,91   \n",
       "\n",
       "  Valor de Mercado Liquidez  Qtd de imóveis Preço do m2 Aluguel por m2  \\\n",
       "0      894.419.000   90.469               1   12.537,30       1.019,81   \n",
       "1      353.582.000        0               6    4.065,62         300,71   \n",
       "2      156.193.000        0               0        0,00           0,00   \n",
       "3      180.340.000  863.145               0        0,00           0,00   \n",
       "4       63.727.900   95.373               0        0,00           0,00   \n",
       "\n",
       "  Cap Rate Vacância Média                                           Endereço  \n",
       "0    8,13%          7,50%  Avenida Industrial, 600, Centro, Santo André - SP  \n",
       "1    7,40%          0,00%  Avenida São Luís Rei de França, 32, Turu - São...  \n",
       "2    0,00%          0,00%                                                NaN  \n",
       "3    0,00%          0,00%                                                NaN  \n",
       "4    0,00%          0,00%                                                NaN  "
      ]
     },
     "execution_count": 208,
     "metadata": {},
     "output_type": "execute_result"
    }
   ],
   "source": [
    "fiis.head(5)"
   ]
  },
  {
   "cell_type": "code",
   "execution_count": 209,
   "id": "6f4227df",
   "metadata": {},
   "outputs": [],
   "source": [
    "filters = [\n",
    "#     {'on' : 'feature', 'min' : 0.0, 'max' : '0.0'}\n",
    "    {'on' : 'Liquidez', 'min' : 10000},\n",
    "    {'on' : 'P/VP', 'min' : 0.8}\n",
    "]"
   ]
  },
  {
   "cell_type": "code",
   "execution_count": 276,
   "id": "63ef32e1",
   "metadata": {},
   "outputs": [
    {
     "data": {
      "text/plain": [
       "160"
      ]
     },
     "execution_count": 276,
     "metadata": {},
     "output_type": "execute_result"
    }
   ],
   "source": [
    "fiis.shape[0]"
   ]
  },
  {
   "cell_type": "code",
   "execution_count": 211,
   "id": "9b687782",
   "metadata": {},
   "outputs": [],
   "source": [
    "LETTERS = 'ABCDEFGHIJKLMNOPQRSTUVWXYZ'\n",
    "\n",
    "def excel_style(col, row=0):\n",
    "    \"\"\" Convert given row and column number to an Excel-style cell name. \"\"\"\n",
    "    result = []\n",
    "    while col:\n",
    "        col, rem = divmod(col-1, 26)\n",
    "        result[:0] = LETTERS[rem]\n",
    "    return ''.join(result)# + str(row)"
   ]
  },
  {
   "cell_type": "code",
   "execution_count": 212,
   "id": "9fd61621",
   "metadata": {},
   "outputs": [],
   "source": [
    "def convert_to_float(str_val, default=0.0):\n",
    "    try:\n",
    "        str_val = re.sub('[^0-9\\.,]','', str_val)\n",
    "        str_val = str_val.replace('.', '').replace(',', '.')\n",
    "        return float(str_val)\n",
    "    except Exception as e:\n",
    "        print(e, str_val)\n",
    "        return default"
   ]
  },
  {
   "cell_type": "code",
   "execution_count": 213,
   "id": "d11115c3",
   "metadata": {},
   "outputs": [],
   "source": [
    "def apply_filter(row, filters):\n",
    "    flag = True\n",
    "    for f in filters:\n",
    "        if('min' in f):\n",
    "            flag = flag and row[f['on']] >= f['min']\n",
    "    return flag"
   ]
  },
  {
   "cell_type": "markdown",
   "id": "3b3f072d",
   "metadata": {},
   "source": [
    "---"
   ]
  },
  {
   "cell_type": "code",
   "execution_count": 214,
   "id": "17989908",
   "metadata": {},
   "outputs": [],
   "source": [
    "columns = [\n",
    "    'Cotação',\n",
    "    'FFO Yield',\n",
    "    'Dividend Yield',\n",
    "    'P/VP',\n",
    "    'Valor de Mercado',\n",
    "    'Liquidez',\n",
    "    'Preço do m2',\n",
    "    'Aluguel por m2',\n",
    "    'Cap Rate',\n",
    "    'Vacância Média'\n",
    "]\n",
    "for col in columns:\n",
    "    fiis[col] = fiis[col].apply(lambda v : convert_to_float(v))\n",
    "#     print('all good with: ', col)"
   ]
  },
  {
   "cell_type": "code",
   "execution_count": 215,
   "id": "5fe4e9cc",
   "metadata": {},
   "outputs": [],
   "source": [
    "f_ = fiis.apply(lambda row: apply_filter(row, filters), axis=1)\n",
    "fiis = fiis[f_].reset_index(drop=True)"
   ]
  },
  {
   "cell_type": "code",
   "execution_count": 246,
   "id": "d8b8c106",
   "metadata": {},
   "outputs": [
    {
     "data": {
      "text/plain": [
       "array(['Shoppings', 'Títulos e Val. Mob.', 'Híbrido',\n",
       "       'Lajes Corporativas', 'Outros', 'Logística', nan, 'Hospital',\n",
       "       'Residencial', 'Hotel'], dtype=object)"
      ]
     },
     "execution_count": 246,
     "metadata": {},
     "output_type": "execute_result"
    }
   ],
   "source": [
    "fiis['Segmento'].unique()"
   ]
  },
  {
   "cell_type": "code",
   "execution_count": 216,
   "id": "4fd40385",
   "metadata": {},
   "outputs": [
    {
     "data": {
      "text/html": [
       "<div>\n",
       "<style scoped>\n",
       "    .dataframe tbody tr th:only-of-type {\n",
       "        vertical-align: middle;\n",
       "    }\n",
       "\n",
       "    .dataframe tbody tr th {\n",
       "        vertical-align: top;\n",
       "    }\n",
       "\n",
       "    .dataframe thead th {\n",
       "        text-align: right;\n",
       "    }\n",
       "</style>\n",
       "<table border=\"1\" class=\"dataframe\">\n",
       "  <thead>\n",
       "    <tr style=\"text-align: right;\">\n",
       "      <th></th>\n",
       "      <th>Papel</th>\n",
       "      <th>Segmento</th>\n",
       "      <th>Cotação</th>\n",
       "      <th>FFO Yield</th>\n",
       "      <th>Dividend Yield</th>\n",
       "      <th>P/VP</th>\n",
       "      <th>Valor de Mercado</th>\n",
       "      <th>Liquidez</th>\n",
       "      <th>Qtd de imóveis</th>\n",
       "      <th>Preço do m2</th>\n",
       "      <th>Aluguel por m2</th>\n",
       "      <th>Cap Rate</th>\n",
       "      <th>Vacância Média</th>\n",
       "      <th>Endereço</th>\n",
       "    </tr>\n",
       "  </thead>\n",
       "  <tbody>\n",
       "    <tr>\n",
       "      <th>0</th>\n",
       "      <td>ABCP11</td>\n",
       "      <td>Shoppings</td>\n",
       "      <td>73.29</td>\n",
       "      <td>6.97</td>\n",
       "      <td>7.57</td>\n",
       "      <td>0.80</td>\n",
       "      <td>894419000.0</td>\n",
       "      <td>90469.0</td>\n",
       "      <td>1</td>\n",
       "      <td>12537.30</td>\n",
       "      <td>1019.81</td>\n",
       "      <td>8.13</td>\n",
       "      <td>7.5</td>\n",
       "      <td>Avenida Industrial, 600, Centro, Santo André - SP</td>\n",
       "    </tr>\n",
       "    <tr>\n",
       "      <th>1</th>\n",
       "      <td>AFHI11</td>\n",
       "      <td>Títulos e Val. Mob.</td>\n",
       "      <td>100.88</td>\n",
       "      <td>6.14</td>\n",
       "      <td>11.07</td>\n",
       "      <td>1.05</td>\n",
       "      <td>180340000.0</td>\n",
       "      <td>863145.0</td>\n",
       "      <td>0</td>\n",
       "      <td>0.00</td>\n",
       "      <td>0.00</td>\n",
       "      <td>0.00</td>\n",
       "      <td>0.0</td>\n",
       "      <td>NaN</td>\n",
       "    </tr>\n",
       "    <tr>\n",
       "      <th>2</th>\n",
       "      <td>AFOF11</td>\n",
       "      <td>Títulos e Val. Mob.</td>\n",
       "      <td>92.20</td>\n",
       "      <td>5.09</td>\n",
       "      <td>10.78</td>\n",
       "      <td>0.91</td>\n",
       "      <td>63727900.0</td>\n",
       "      <td>95373.0</td>\n",
       "      <td>0</td>\n",
       "      <td>0.00</td>\n",
       "      <td>0.00</td>\n",
       "      <td>0.00</td>\n",
       "      <td>0.0</td>\n",
       "      <td>NaN</td>\n",
       "    </tr>\n",
       "    <tr>\n",
       "      <th>3</th>\n",
       "      <td>ALZR11</td>\n",
       "      <td>Híbrido</td>\n",
       "      <td>113.88</td>\n",
       "      <td>5.83</td>\n",
       "      <td>6.51</td>\n",
       "      <td>1.05</td>\n",
       "      <td>674399000.0</td>\n",
       "      <td>1149200.0</td>\n",
       "      <td>13</td>\n",
       "      <td>5283.60</td>\n",
       "      <td>356.09</td>\n",
       "      <td>6.74</td>\n",
       "      <td>0.0</td>\n",
       "      <td>Rua Fritz Reiman, 628, Itapegica, Guarulhos, S...</td>\n",
       "    </tr>\n",
       "    <tr>\n",
       "      <th>4</th>\n",
       "      <td>ARCT11</td>\n",
       "      <td>Híbrido</td>\n",
       "      <td>106.30</td>\n",
       "      <td>4.94</td>\n",
       "      <td>14.41</td>\n",
       "      <td>1.06</td>\n",
       "      <td>305992000.0</td>\n",
       "      <td>2247110.0</td>\n",
       "      <td>9</td>\n",
       "      <td>404.07</td>\n",
       "      <td>8.68</td>\n",
       "      <td>2.15</td>\n",
       "      <td>0.0</td>\n",
       "      <td>Rodovia GO-070, Km 2 Qd. CH, Lt. 444, , Goiâni...</td>\n",
       "    </tr>\n",
       "  </tbody>\n",
       "</table>\n",
       "</div>"
      ],
      "text/plain": [
       "    Papel             Segmento  Cotação  FFO Yield  Dividend Yield  P/VP  \\\n",
       "0  ABCP11            Shoppings    73.29       6.97            7.57  0.80   \n",
       "1  AFHI11  Títulos e Val. Mob.   100.88       6.14           11.07  1.05   \n",
       "2  AFOF11  Títulos e Val. Mob.    92.20       5.09           10.78  0.91   \n",
       "3  ALZR11              Híbrido   113.88       5.83            6.51  1.05   \n",
       "4  ARCT11              Híbrido   106.30       4.94           14.41  1.06   \n",
       "\n",
       "   Valor de Mercado   Liquidez  Qtd de imóveis  Preço do m2  Aluguel por m2  \\\n",
       "0       894419000.0    90469.0               1     12537.30         1019.81   \n",
       "1       180340000.0   863145.0               0         0.00            0.00   \n",
       "2        63727900.0    95373.0               0         0.00            0.00   \n",
       "3       674399000.0  1149200.0              13      5283.60          356.09   \n",
       "4       305992000.0  2247110.0               9       404.07            8.68   \n",
       "\n",
       "   Cap Rate  Vacância Média                                           Endereço  \n",
       "0      8.13             7.5  Avenida Industrial, 600, Centro, Santo André - SP  \n",
       "1      0.00             0.0                                                NaN  \n",
       "2      0.00             0.0                                                NaN  \n",
       "3      6.74             0.0  Rua Fritz Reiman, 628, Itapegica, Guarulhos, S...  \n",
       "4      2.15             0.0  Rodovia GO-070, Km 2 Qd. CH, Lt. 444, , Goiâni...  "
      ]
     },
     "execution_count": 216,
     "metadata": {},
     "output_type": "execute_result"
    }
   ],
   "source": [
    "fiis.head(5)"
   ]
  },
  {
   "cell_type": "code",
   "execution_count": 217,
   "id": "e282a990",
   "metadata": {},
   "outputs": [],
   "source": [
    "variables = [excel_style(i) for i in list(range(fiis.shape[0]+1))[1:]]"
   ]
  },
  {
   "cell_type": "code",
   "execution_count": 218,
   "id": "3adaf0c9",
   "metadata": {},
   "outputs": [],
   "source": [
    "pulp_variables = [eval(f\"LpVariable(name='{i}', lowBound=0, cat='Integer')\") for i in variables]"
   ]
  },
  {
   "cell_type": "code",
   "execution_count": 264,
   "id": "1b12223b",
   "metadata": {},
   "outputs": [],
   "source": [
    "cotacao = list(fiis['Cotação'])\n",
    "expr_cotacao = sum([v*p for v, p in zip(pulp_variables, cotacao)])\n",
    "\n",
    "profit = list(fiis['Dividend Yield'])\n",
    "expr_profit = sum([v*c for v, c in zip(pulp_variables, profit)])\n",
    "\n",
    "expr_diversification = sum([1 if v >= 0.1 else 0 for v in pulp_variables])"
   ]
  },
  {
   "cell_type": "code",
   "execution_count": 220,
   "id": "bcca855c",
   "metadata": {},
   "outputs": [],
   "source": [
    "# type(cotacao[0])\n",
    "# convert_to_float(cotacao[0])\n",
    "# cotacao[0]"
   ]
  },
  {
   "cell_type": "markdown",
   "id": "b39a7ce8",
   "metadata": {},
   "source": [
    "---"
   ]
  },
  {
   "cell_type": "code",
   "execution_count": 265,
   "id": "1dfc8ff3",
   "metadata": {},
   "outputs": [],
   "source": [
    "BUDGET = 100000.00"
   ]
  },
  {
   "cell_type": "code",
   "execution_count": 266,
   "id": "97aa1af7",
   "metadata": {},
   "outputs": [],
   "source": [
    "# 1. Create the model\n",
    "model = LpProblem(name=\"portifolio\", sense=LpMaximize)"
   ]
  },
  {
   "cell_type": "code",
   "execution_count": 267,
   "id": "190da695",
   "metadata": {},
   "outputs": [],
   "source": [
    "# 2. Add the constraints to the model\n",
    "model += (expr_cotacao <= BUDGET, \"budget_ub_constraint\")"
   ]
  },
  {
   "cell_type": "code",
   "execution_count": 268,
   "id": "f9a0a295",
   "metadata": {},
   "outputs": [],
   "source": [
    "# 3. Add the objective function to the model\n",
    "model += expr_profit + expr_diversification"
   ]
  },
  {
   "cell_type": "code",
   "execution_count": 269,
   "id": "4ee01e64",
   "metadata": {},
   "outputs": [],
   "source": [
    "# 4. Solve the problem\n",
    "status = model.solve()"
   ]
  },
  {
   "cell_type": "code",
   "execution_count": 270,
   "id": "c31e0293",
   "metadata": {},
   "outputs": [
    {
     "name": "stdout",
     "output_type": "stream",
     "text": [
      "status: 1, Optimal\n",
      "objective: 208852.0\n",
      "--------------------------------------------------\n",
      "budget_ub_constraint: -1.75\n"
     ]
    }
   ],
   "source": [
    "print(f\"status: {model.status}, {LpStatus[model.status]}\")\n",
    "print(f\"objective: {model.objective.value()}\")\n",
    "print('-'*50)\n",
    "# for var in model.variables():\n",
    "#     idx = variables.index(var.name)\n",
    "#     alimento = smdf.loc[idx, 'food']\n",
    "#     print(f\"{var.name}:\\t{var.value()}\\t- {alimento}\")\n",
    "\n",
    "for name, constraint in model.constraints.items():\n",
    "    print(f\"{name}: {constraint.value()}\")"
   ]
  },
  {
   "cell_type": "code",
   "execution_count": 275,
   "id": "b32c87bb",
   "metadata": {},
   "outputs": [
    {
     "data": {
      "text/plain": [
       "portifolio:\n",
       "MAXIMIZE\n",
       "7.57*A + 7.23*AA + 10.78*AB + 11.52*AC + 12.83*AD + 11.97*AE + 10.05*AF + 15.38*AG + 8.99*AH + 8.87*AI + 6.9*AJ + 10.97*AK + 8.97*AL + 9.11*AM + 14.55*AN + 11.42*AO + 13.75*AP + 2.06*AQ + 12.11*AR + 8.85*AS + 3.51*AT + 10.33*AU + 16.86*AV + 8.56*AW + 7.49*AX + 12.78*AY + 16.35*AZ + 11.07*B + 10.19*BA + 5.88*BB + 10.69*BC + 8.95*BD + 10.02*BE + 8.62*BF + 6.04*BG + 7.8*BH + 8.93*BI + 12.68*BJ + 7.98*BK + 7.1*BL + 6.91*BM + 10.65*BN + 9.84*BO + 12.45*BP + 7.61*BQ + 3.47*BR + 2.29*BS + 5.77*BT + 13.87*BU + 5.06*BV + 4.15*BW + 9.54*BX + 26.4*BY + 9.93*BZ + 10.78*C + 7.04*CA + 14.33*CB + 14.52*CC + 6.68*CD + 15.61*CE + 8.99*CF + 7.86*CG + 6.94*CH + 6.02*CI + 11.12*CJ + 8.43*CK + 7.76*CL + 12.11*CM + 12.93*CN + 12.15*CO + 10.35*CP + 10.26*CQ + 4.88*CR + 11.02*CS + 10.38*CT + 9.12*CU + 3.34*CV + 11.81*CW + 5.91*CX + 11.8*CY + 12.04*CZ + 6.51*D + 13.01*DA + 9.36*DB + 12.57*DC + 44.86*DD + 12.91*DE + 6.62*DF + 9.32*DG + 13.85*DH + 10.23*DI + 10.83*DJ + 8.56*DK + 14.97*DL + 9.57*DM + 9.73*DN + 10.39*DO + 10.64*DP + 11.12*DQ + 10.27*DR + 13.32*DS + 10.73*DT + 11.98*DU + 10.48*DV + 11.32*DW + 11.51*DX + 7.22*DY + 8.85*DZ + 14.41*E + 4.33*EA + 6.52*EB + 6.72*EC + 9.62*ED + 21.92*EE + 0.97*EF + 12.73*EG + 8.74*EH + 9.06*EI + 7.68*EJ + 17.56*EK + 13.25*EL + 14.89*EM + 13.72*EN + 8.55*EO + 10.67*EP + 7.48*EQ + 10.71*ER + 6.49*ES + 5.91*ET + 12.71*EU + 16.35*EV + 9.57*EW + 9.25*EX + 12.2*EZ + 15.48*F + 0.05*FA + 7.83*FB + 6.28*FC + 12.6*FD + 13.13*G + 10.42*H + 12.69*I + 10.82*J + 8.78*K + 9.32*L + 13.65*M + 6.95*N + 12.17*O + 11.23*P + 8.04*Q + 11.84*R + 10.67*S + 6.98*T + 3.92*U + 8.39*V + 9.83*W + 8.16*X + 6.13*Y + 8.34*Z + 160.0\n",
       "SUBJECT TO\n",
       "budget_ub_constraint: 73.29 A + 98.97 AA + 94 AB + 71.64 AC + 95.28 AD\n",
       " + 103.21 AE + 77.6 AF + 99.28 AG + 93.5 AH + 93.04 AI + 115.14 AJ + 90.5 AK\n",
       " + 443.05 AL + 165 AM + 97.9 AN + 94.8 AO + 76.26 AP + 103 AQ + 98.97 AR\n",
       " + 108.4 AS + 99.99 AT + 79.87 AU + 104.85 AV + 108 AW + 81 AX + 271 AY\n",
       " + 116.8 AZ + 100.88 B + 76 BA + 175.17 BB + 107.36 BC + 72.18 BD + 110.97 BE\n",
       " + 166.54 BF + 255.9 BG + 114.32 BH + 91.81 BI + 96.4 BJ + 88.49 BK + 81.2 BL\n",
       " + 100 BM + 97.1 BN + 58.65 BO + 110.14 BP + 111.8 BQ + 81.91 BR + 70.71 BS\n",
       " + 86.27 BT + 99.45 BU + 74.8 BV + 903 BW + 76.34 BX + 12.65 BY + 7.68 BZ\n",
       " + 92.2 C + 102.04 CA + 102.94 CB + 101.43 CC + 135.51 CD + 94.46 CE + 110 CF\n",
       " + 98.95 CG + 104.22 CH + 96.9 CI + 100.48 CJ + 10.09 CK + 113.5 CL + 79.99 CM\n",
       " + 103.75 CN + 85.46 CO + 62.32 CP + 82.99 CQ + 102.49 CR + 71.71 CS + 9.45 CT\n",
       " + 75 CU + 96.08 CV + 95.9 CW + 154.36 CX + 66.95 CY + 91.09 CZ + 113.88 D\n",
       " + 82 DA + 79.16 DB + 88.92 DC + 41 DD + 93.27 DE + 92.68 DF + 48.99 DG\n",
       " + 94.9 DH + 123.6 DI + 52.18 DJ + 88.6 DK + 101.09 DL + 74.7 DM + 85.61 DN\n",
       " + 102.46 DO + 105.94 DP + 98.66 DQ + 54 DR + 100.01 DS + 70.5 DT + 90.33 DU\n",
       " + 83.94 DV + 97 DW + 102.44 DX + 89.99 DY + 92.65 DZ + 106.3 E + 820.02 EA\n",
       " + 107.66 EB + 84.9 EC + 1011 ED + 43.8 EE + 9.8 EF + 119.51 EG + 122.5 EH\n",
       " + 99.5 EI + 103 EJ + 114.41 EK + 97.75 EL + 10.48 EM + 101.48 EN + 101.45 EO\n",
       " + 71.01 EP + 101.37 EQ + 51.98 ER + 102.95 ES + 96.43 ET + 104 EU + 9.48 EV\n",
       " + 96 EW + 94.09 EX + 852.64 EY + 96.55 EZ + 97.2 F + 97.06 FA + 95.87 FB\n",
       " + 98.85 FC + 73.63 FD + 101.95 G + 71.75 H + 87.99 I + 98 J + 68.49 K\n",
       " + 82.6 L + 108.88 M + 86 N + 84.25 O + 7.28 P + 90.5 Q + 119 R + 64.4 S\n",
       " + 100 T + 149 U + 99 V + 97.13 W + 103.22 X + 103 Y + 107.6 Z <= 100000\n",
       "\n",
       "VARIABLES\n",
       "0 <= A Integer\n",
       "0 <= AA Integer\n",
       "0 <= AB Integer\n",
       "0 <= AC Integer\n",
       "0 <= AD Integer\n",
       "0 <= AE Integer\n",
       "0 <= AF Integer\n",
       "0 <= AG Integer\n",
       "0 <= AH Integer\n",
       "0 <= AI Integer\n",
       "0 <= AJ Integer\n",
       "0 <= AK Integer\n",
       "0 <= AL Integer\n",
       "0 <= AM Integer\n",
       "0 <= AN Integer\n",
       "0 <= AO Integer\n",
       "0 <= AP Integer\n",
       "0 <= AQ Integer\n",
       "0 <= AR Integer\n",
       "0 <= AS Integer\n",
       "0 <= AT Integer\n",
       "0 <= AU Integer\n",
       "0 <= AV Integer\n",
       "0 <= AW Integer\n",
       "0 <= AX Integer\n",
       "0 <= AY Integer\n",
       "0 <= AZ Integer\n",
       "0 <= B Integer\n",
       "0 <= BA Integer\n",
       "0 <= BB Integer\n",
       "0 <= BC Integer\n",
       "0 <= BD Integer\n",
       "0 <= BE Integer\n",
       "0 <= BF Integer\n",
       "0 <= BG Integer\n",
       "0 <= BH Integer\n",
       "0 <= BI Integer\n",
       "0 <= BJ Integer\n",
       "0 <= BK Integer\n",
       "0 <= BL Integer\n",
       "0 <= BM Integer\n",
       "0 <= BN Integer\n",
       "0 <= BO Integer\n",
       "0 <= BP Integer\n",
       "0 <= BQ Integer\n",
       "0 <= BR Integer\n",
       "0 <= BS Integer\n",
       "0 <= BT Integer\n",
       "0 <= BU Integer\n",
       "0 <= BV Integer\n",
       "0 <= BW Integer\n",
       "0 <= BX Integer\n",
       "0 <= BY Integer\n",
       "0 <= BZ Integer\n",
       "0 <= C Integer\n",
       "0 <= CA Integer\n",
       "0 <= CB Integer\n",
       "0 <= CC Integer\n",
       "0 <= CD Integer\n",
       "0 <= CE Integer\n",
       "0 <= CF Integer\n",
       "0 <= CG Integer\n",
       "0 <= CH Integer\n",
       "0 <= CI Integer\n",
       "0 <= CJ Integer\n",
       "0 <= CK Integer\n",
       "0 <= CL Integer\n",
       "0 <= CM Integer\n",
       "0 <= CN Integer\n",
       "0 <= CO Integer\n",
       "0 <= CP Integer\n",
       "0 <= CQ Integer\n",
       "0 <= CR Integer\n",
       "0 <= CS Integer\n",
       "0 <= CT Integer\n",
       "0 <= CU Integer\n",
       "0 <= CV Integer\n",
       "0 <= CW Integer\n",
       "0 <= CX Integer\n",
       "0 <= CY Integer\n",
       "0 <= CZ Integer\n",
       "0 <= D Integer\n",
       "0 <= DA Integer\n",
       "0 <= DB Integer\n",
       "0 <= DC Integer\n",
       "0 <= DD Integer\n",
       "0 <= DE Integer\n",
       "0 <= DF Integer\n",
       "0 <= DG Integer\n",
       "0 <= DH Integer\n",
       "0 <= DI Integer\n",
       "0 <= DJ Integer\n",
       "0 <= DK Integer\n",
       "0 <= DL Integer\n",
       "0 <= DM Integer\n",
       "0 <= DN Integer\n",
       "0 <= DO Integer\n",
       "0 <= DP Integer\n",
       "0 <= DQ Integer\n",
       "0 <= DR Integer\n",
       "0 <= DS Integer\n",
       "0 <= DT Integer\n",
       "0 <= DU Integer\n",
       "0 <= DV Integer\n",
       "0 <= DW Integer\n",
       "0 <= DX Integer\n",
       "0 <= DY Integer\n",
       "0 <= DZ Integer\n",
       "0 <= E Integer\n",
       "0 <= EA Integer\n",
       "0 <= EB Integer\n",
       "0 <= EC Integer\n",
       "0 <= ED Integer\n",
       "0 <= EE Integer\n",
       "0 <= EF Integer\n",
       "0 <= EG Integer\n",
       "0 <= EH Integer\n",
       "0 <= EI Integer\n",
       "0 <= EJ Integer\n",
       "0 <= EK Integer\n",
       "0 <= EL Integer\n",
       "0 <= EM Integer\n",
       "0 <= EN Integer\n",
       "0 <= EO Integer\n",
       "0 <= EP Integer\n",
       "0 <= EQ Integer\n",
       "0 <= ER Integer\n",
       "0 <= ES Integer\n",
       "0 <= ET Integer\n",
       "0 <= EU Integer\n",
       "0 <= EV Integer\n",
       "0 <= EW Integer\n",
       "0 <= EX Integer\n",
       "0 <= EY Integer\n",
       "0 <= EZ Integer\n",
       "0 <= F Integer\n",
       "0 <= FA Integer\n",
       "0 <= FB Integer\n",
       "0 <= FC Integer\n",
       "0 <= FD Integer\n",
       "0 <= G Integer\n",
       "0 <= H Integer\n",
       "0 <= I Integer\n",
       "0 <= J Integer\n",
       "0 <= K Integer\n",
       "0 <= L Integer\n",
       "0 <= M Integer\n",
       "0 <= N Integer\n",
       "0 <= O Integer\n",
       "0 <= P Integer\n",
       "0 <= Q Integer\n",
       "0 <= R Integer\n",
       "0 <= S Integer\n",
       "0 <= T Integer\n",
       "0 <= U Integer\n",
       "0 <= V Integer\n",
       "0 <= W Integer\n",
       "0 <= X Integer\n",
       "0 <= Y Integer\n",
       "0 <= Z Integer"
      ]
     },
     "execution_count": 275,
     "metadata": {},
     "output_type": "execute_result"
    }
   ],
   "source": [
    "model"
   ]
  },
  {
   "cell_type": "code",
   "execution_count": 271,
   "id": "433bcc14",
   "metadata": {},
   "outputs": [
    {
     "name": "stdout",
     "output_type": "stream",
     "text": [
      "76 - BY: 7905.0 - KINP11 - Residencial\n"
     ]
    }
   ],
   "source": [
    "designed_portifolio = []\n",
    "for i, var in enumerate(model.variables()):\n",
    "    idx = variables.index(var.name)\n",
    "    value = var.value()\n",
    "    if(value > 0):\n",
    "        print(f\"{idx} - {var.name}: {value} - {fiis.loc[idx, 'Papel']} - {fiis.loc[idx, 'Segmento']}\")\n",
    "        designed_portifolio.append({\n",
    "            'asset': fiis.loc[idx, 'Papel'],\n",
    "            'qnt' : value,\n",
    "            'idx' : idx,\n",
    "            'segment' : fiis.loc[idx, 'Segmento'],\n",
    "            'value' : value * fiis.loc[idx, 'Cotação'],\n",
    "            'cotation' : fiis.loc[idx, 'Cotação'],\n",
    "            'dy' : fiis.loc[idx, 'Dividend Yield'],\n",
    "            'p/vp' : fiis.loc[idx, 'P/VP'],\n",
    "        })"
   ]
  },
  {
   "cell_type": "code",
   "execution_count": 272,
   "id": "44d7a269",
   "metadata": {},
   "outputs": [
    {
     "data": {
      "text/plain": [
       "[{'asset': 'KINP11',\n",
       "  'qnt': 7905.0,\n",
       "  'idx': 76,\n",
       "  'segment': 'Residencial',\n",
       "  'value': 99998.25,\n",
       "  'cotation': 12.65,\n",
       "  'dy': 26.4,\n",
       "  'p/vp': 1.79}]"
      ]
     },
     "execution_count": 272,
     "metadata": {},
     "output_type": "execute_result"
    }
   ],
   "source": [
    "designed_portifolio"
   ]
  },
  {
   "cell_type": "code",
   "execution_count": 274,
   "id": "70048339",
   "metadata": {},
   "outputs": [
    {
     "data": {
      "text/plain": [
       "160.0"
      ]
     },
     "execution_count": 274,
     "metadata": {},
     "output_type": "execute_result"
    }
   ],
   "source": [
    "model.objective.value() - (26.4 * 7905)"
   ]
  }
 ],
 "metadata": {
  "kernelspec": {
   "display_name": "Python 3",
   "language": "python",
   "name": "python3"
  },
  "language_info": {
   "codemirror_mode": {
    "name": "ipython",
    "version": 3
   },
   "file_extension": ".py",
   "mimetype": "text/x-python",
   "name": "python",
   "nbconvert_exporter": "python",
   "pygments_lexer": "ipython3",
   "version": "3.7.2"
  }
 },
 "nbformat": 4,
 "nbformat_minor": 5
}
